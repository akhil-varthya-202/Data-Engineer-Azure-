{
 "cells": [
  {
   "cell_type": "code",
   "execution_count": 0,
   "metadata": {
    "application/vnd.databricks.v1+cell": {
     "cellMetadata": {
      "byteLimit": 2048000,
      "rowLimit": 10000
     },
     "inputWidgets": {},
     "nuid": "9afa6f26-0f93-4bd1-8c04-23cf3283fc79",
     "showTitle": false,
     "title": ""
    }
   },
   "outputs": [],
   "source": [
    "import pyspark\n",
    "from pyspark.sql import *\n",
    "from pyspark.sql.functions import *"
   ]
  },
  {
   "cell_type": "code",
   "execution_count": 0,
   "metadata": {
    "application/vnd.databricks.v1+cell": {
     "cellMetadata": {
      "byteLimit": 2048000,
      "rowLimit": 10000
     },
     "inputWidgets": {},
     "nuid": "41c7842e-13a6-4066-b0d4-cd35beb8231f",
     "showTitle": false,
     "title": ""
    }
   },
   "outputs": [],
   "source": [
    "#dbutils.secrets.listScopes()"
   ]
  },
  {
   "cell_type": "code",
   "execution_count": 0,
   "metadata": {
    "application/vnd.databricks.v1+cell": {
     "cellMetadata": {
      "byteLimit": 2048000,
      "rowLimit": 10000
     },
     "inputWidgets": {},
     "nuid": "7659a6b7-d723-47ba-b96f-b49ab0730c31",
     "showTitle": false,
     "title": ""
    }
   },
   "outputs": [],
   "source": [
    "#dbutils.secrets.list(scope=\"databricksscope\")"
   ]
  },
  {
   "cell_type": "code",
   "execution_count": 0,
   "metadata": {
    "application/vnd.databricks.v1+cell": {
     "cellMetadata": {
      "byteLimit": 2048000,
      "rowLimit": 10000
     },
     "inputWidgets": {},
     "nuid": "42eb9f61-c323-4187-878d-03315abe4db1",
     "showTitle": false,
     "title": ""
    }
   },
   "outputs": [],
   "source": [
    "spark.conf.set(\"fs.azure.account.key.optumsadllssa.dfs.core.windows.net\",dbutils.secrets.get(scope=\"databricksscope\",key=\"adlskey\"))"
   ]
  },
  {
   "cell_type": "code",
   "execution_count": 0,
   "metadata": {
    "application/vnd.databricks.v1+cell": {
     "cellMetadata": {
      "byteLimit": 2048000,
      "rowLimit": 10000
     },
     "inputWidgets": {},
     "nuid": "b1d341cd-1344-44a0-b7f7-8b7ccd15ff06",
     "showTitle": false,
     "title": ""
    }
   },
   "outputs": [
    {
     "output_type": "display_data",
     "data": {
      "text/html": [
       "<style scoped>\n",
       "  .table-result-container {\n",
       "    max-height: 300px;\n",
       "    overflow: auto;\n",
       "  }\n",
       "  table, th, td {\n",
       "    border: 1px solid black;\n",
       "    border-collapse: collapse;\n",
       "  }\n",
       "  th, td {\n",
       "    padding: 5px;\n",
       "  }\n",
       "  th {\n",
       "    text-align: left;\n",
       "  }\n",
       "</style><div class='table-result-container'><table class='table-result'><thead style='background-color: white'><tr><th>path</th><th>name</th><th>size</th><th>modificationTime</th></tr></thead><tbody><tr><td>abfss://optumrawdataset@optumsadllssa.dfs.core.windows.net/Claims.csv</td><td>Claims.csv</td><td>5766</td><td>1716728851000</td></tr><tr><td>abfss://optumrawdataset@optumsadllssa.dfs.core.windows.net/Patient_records.csv</td><td>Patient_records.csv</td><td>5110</td><td>1716718820000</td></tr><tr><td>abfss://optumrawdataset@optumsadllssa.dfs.core.windows.net/disease.csv</td><td>disease.csv</td><td>1489</td><td>1716718820000</td></tr><tr><td>abfss://optumrawdataset@optumsadllssa.dfs.core.windows.net/group.csv</td><td>group.csv</td><td>4390</td><td>1716718820000</td></tr><tr><td>abfss://optumrawdataset@optumsadllssa.dfs.core.windows.net/hospital.csv</td><td>hospital.csv</td><td>1528</td><td>1716728950000</td></tr><tr><td>abfss://optumrawdataset@optumsadllssa.dfs.core.windows.net/subgroup.csv</td><td>subgroup.csv</td><td>561</td><td>1716718820000</td></tr><tr><td>abfss://optumrawdataset@optumsadllssa.dfs.core.windows.net/subscriber.csv</td><td>subscriber.csv</td><td>12061</td><td>1716718820000</td></tr></tbody></table></div>"
      ]
     },
     "metadata": {
      "application/vnd.databricks.v1+output": {
       "addedWidgets": {},
       "aggData": [],
       "aggError": "",
       "aggOverflow": false,
       "aggSchema": [],
       "aggSeriesLimitReached": false,
       "aggType": "",
       "arguments": {},
       "columnCustomDisplayInfos": {},
       "data": [
        [
         "abfss://optumrawdataset@optumsadllssa.dfs.core.windows.net/Claims.csv",
         "Claims.csv",
         5766,
         1716728851000
        ],
        [
         "abfss://optumrawdataset@optumsadllssa.dfs.core.windows.net/Patient_records.csv",
         "Patient_records.csv",
         5110,
         1716718820000
        ],
        [
         "abfss://optumrawdataset@optumsadllssa.dfs.core.windows.net/disease.csv",
         "disease.csv",
         1489,
         1716718820000
        ],
        [
         "abfss://optumrawdataset@optumsadllssa.dfs.core.windows.net/group.csv",
         "group.csv",
         4390,
         1716718820000
        ],
        [
         "abfss://optumrawdataset@optumsadllssa.dfs.core.windows.net/hospital.csv",
         "hospital.csv",
         1528,
         1716728950000
        ],
        [
         "abfss://optumrawdataset@optumsadllssa.dfs.core.windows.net/subgroup.csv",
         "subgroup.csv",
         561,
         1716718820000
        ],
        [
         "abfss://optumrawdataset@optumsadllssa.dfs.core.windows.net/subscriber.csv",
         "subscriber.csv",
         12061,
         1716718820000
        ]
       ],
       "datasetInfos": [],
       "dbfsResultPath": null,
       "isJsonSchema": true,
       "metadata": {},
       "overflow": false,
       "plotOptions": {
        "customPlotOptions": {},
        "displayType": "table",
        "pivotAggregation": null,
        "pivotColumns": null,
        "xColumns": null,
        "yColumns": null
       },
       "removedWidgets": [],
       "schema": [
        {
         "metadata": "{}",
         "name": "path",
         "type": "\"string\""
        },
        {
         "metadata": "{}",
         "name": "name",
         "type": "\"string\""
        },
        {
         "metadata": "{}",
         "name": "size",
         "type": "\"long\""
        },
        {
         "metadata": "{}",
         "name": "modificationTime",
         "type": "\"long\""
        }
       ],
       "type": "table"
      }
     },
     "output_type": "display_data"
    }
   ],
   "source": [
    "display(dbutils.fs.ls(\"abfss://optumrawdataset@optumsadllssa.dfs.core.windows.net\"))"
   ]
  },
  {
   "cell_type": "code",
   "execution_count": 0,
   "metadata": {
    "application/vnd.databricks.v1+cell": {
     "cellMetadata": {
      "byteLimit": 2048000,
      "rowLimit": 10000
     },
     "inputWidgets": {},
     "nuid": "ead8479b-2f2d-4453-9cf4-bc87c30f43b1",
     "showTitle": false,
     "title": ""
    }
   },
   "outputs": [],
   "source": [
    "data = spark.read.csv('abfss://optumrawdataset@optumsadllssa.dfs.core.windows.net/Patient_records.csv',header=True)#inferSchema=True)"
   ]
  },
  {
   "cell_type": "code",
   "execution_count": 0,
   "metadata": {
    "application/vnd.databricks.v1+cell": {
     "cellMetadata": {
      "byteLimit": 2048000,
      "rowLimit": 10000
     },
     "inputWidgets": {},
     "nuid": "58c060a2-0256-4b54-aaa5-affa559e1fc5",
     "showTitle": false,
     "title": ""
    }
   },
   "outputs": [
    {
     "output_type": "stream",
     "name": "stdout",
     "output_type": "stream",
     "text": [
      "+----------+------------+--------------+------------------+--------------+--------------+------------+-----------+\n|Patient_id|Patient_name|patient_gender|patient_birth_date|patient_phone |disease_name  |city        |hospital_id|\n+----------+------------+--------------+------------------+--------------+--------------+------------+-----------+\n|187158    |Harbir      |Female        |1924-06-30        |+91 0112009318|Galactosemia  |Rourkela    |H1001      |\n|112766    |Brahmdev    |Female        |1948-12-20        |+91 1727749552|Bladder cancer|Tiruvottiyur|H1016      |\n|199252    |Ujjawal     |Male          |1980-04-16        |+91 8547451606|Kidney cancer |Berhampur   |H1009      |\n|133424    |Ballari     |Female        |1969-09-25        |+91 0106026841|Suicide       |Bihar Sharif|H1017      |\n|172579    |Devnath     |Female        |1946-05-01        |+91 1868774631|Food allergy  |Bidhannagar |H1019      |\n+----------+------------+--------------+------------------+--------------+--------------+------------+-----------+\nonly showing top 5 rows\n\n"
     ]
    }
   ],
   "source": [
    "data.show(5,False)"
   ]
  },
  {
   "cell_type": "code",
   "execution_count": 0,
   "metadata": {
    "application/vnd.databricks.v1+cell": {
     "cellMetadata": {
      "byteLimit": 2048000,
      "rowLimit": 10000
     },
     "inputWidgets": {},
     "nuid": "ff5faa40-9147-4260-8bf4-ce840fe111dc",
     "showTitle": false,
     "title": ""
    }
   },
   "outputs": [
    {
     "output_type": "execute_result",
     "data": {
      "text/plain": [
       "70"
      ]
     },
     "execution_count": 27,
     "metadata": {},
     "output_type": "execute_result"
    }
   ],
   "source": [
    "data.count()"
   ]
  },
  {
   "cell_type": "code",
   "execution_count": 0,
   "metadata": {
    "application/vnd.databricks.v1+cell": {
     "cellMetadata": {
      "byteLimit": 2048000,
      "rowLimit": 10000
     },
     "inputWidgets": {},
     "nuid": "2dcbeeb3-1295-4eae-bef8-0b0ef926957c",
     "showTitle": false,
     "title": ""
    }
   },
   "outputs": [
    {
     "output_type": "stream",
     "name": "stdout",
     "output_type": "stream",
     "text": [
      "+----------+------------+--------------+------------------+-------------+------------+----+-----------+\n|Patient_id|Patient_name|patient_gender|patient_birth_date|patient_phone|disease_name|city|hospital_id|\n+----------+------------+--------------+------------------+-------------+------------+----+-----------+\n|         0|          17|             0|                 0|            2|           0|   0|          0|\n+----------+------------+--------------+------------------+-------------+------------+----+-----------+\n\n"
     ]
    }
   ],
   "source": [
    "data.select([count(when(isnan(c)|col(c).isNull(),c)).alias(c) for c in data.columns]).show()"
   ]
  },
  {
   "cell_type": "code",
   "execution_count": 0,
   "metadata": {
    "application/vnd.databricks.v1+cell": {
     "cellMetadata": {
      "byteLimit": 2048000,
      "rowLimit": 10000
     },
     "inputWidgets": {},
     "nuid": "ebb08c06-fa9b-4130-a51b-576982d878de",
     "showTitle": false,
     "title": ""
    }
   },
   "outputs": [
    {
     "output_type": "stream",
     "name": "stdout",
     "output_type": "stream",
     "text": [
      "+----------+------------+--------------+------------------+-------------+------------+----+-----------+-----+\n|Patient_id|Patient_name|patient_gender|patient_birth_date|patient_phone|disease_name|city|hospital_id|count|\n+----------+------------+--------------+------------------+-------------+------------+----+-----------+-----+\n+----------+------------+--------------+------------------+-------------+------------+----+-----------+-----+\n\n"
     ]
    }
   ],
   "source": [
    "data.groupby(data.columns).count().where(\"count>1\").show()"
   ]
  },
  {
   "cell_type": "code",
   "execution_count": 0,
   "metadata": {
    "application/vnd.databricks.v1+cell": {
     "cellMetadata": {
      "byteLimit": 2048000,
      "rowLimit": 10000
     },
     "inputWidgets": {},
     "nuid": "500177a6-8c7c-41e5-922f-ffa4c3433865",
     "showTitle": false,
     "title": ""
    }
   },
   "outputs": [],
   "source": [
    "data = data.dropDuplicates()"
   ]
  },
  {
   "cell_type": "code",
   "execution_count": 0,
   "metadata": {
    "application/vnd.databricks.v1+cell": {
     "cellMetadata": {
      "byteLimit": 2048000,
      "rowLimit": 10000
     },
     "inputWidgets": {},
     "nuid": "5647f211-b2bb-48a7-bb20-9d2651050eae",
     "showTitle": false,
     "title": ""
    }
   },
   "outputs": [],
   "source": [
    "data = data.fillna({'Patient_name':'Guest/NA'})"
   ]
  },
  {
   "cell_type": "code",
   "execution_count": 0,
   "metadata": {
    "application/vnd.databricks.v1+cell": {
     "cellMetadata": {
      "byteLimit": 2048000,
      "rowLimit": 10000
     },
     "inputWidgets": {},
     "nuid": "0246b058-866c-42e6-9ec6-48eb889489a9",
     "showTitle": false,
     "title": ""
    }
   },
   "outputs": [],
   "source": [
    "data = data.withColumn(\"Patient_age\",(months_between(current_date(),col('patient_birth_date'))/12).cast(\"int\"))"
   ]
  },
  {
   "cell_type": "code",
   "execution_count": 0,
   "metadata": {
    "application/vnd.databricks.v1+cell": {
     "cellMetadata": {
      "byteLimit": 2048000,
      "rowLimit": 10000
     },
     "inputWidgets": {},
     "nuid": "534151be-679e-4554-a61a-4a5d25eb28d0",
     "showTitle": false,
     "title": ""
    }
   },
   "outputs": [
    {
     "output_type": "stream",
     "name": "stdout",
     "output_type": "stream",
     "text": [
      "+----------+------------+--------------+------------------+--------------+--------------+------------+-----------+-----------+\n|Patient_id|Patient_name|patient_gender|patient_birth_date|patient_phone |disease_name  |city        |hospital_id|Patient_age|\n+----------+------------+--------------+------------------+--------------+--------------+------------+-----------+-----------+\n|133424    |Ballari     |Female        |1969-09-25        |+91 0106026841|Suicide       |Bihar Sharif|H1017      |54         |\n|112766    |Brahmdev    |Female        |1948-12-20        |+91 1727749552|Bladder cancer|Tiruvottiyur|H1016      |75         |\n|171320    |Atasi       |Male          |1967-10-02        |+91 9747336855|Whiplash      |Amravati    |H1013      |56         |\n|187158    |Harbir      |Female        |1924-06-30        |+91 0112009318|Galactosemia  |Rourkela    |H1001      |99         |\n|199252    |Ujjawal     |Male          |1980-04-16        |+91 8547451606|Kidney cancer |Berhampur   |H1009      |44         |\n+----------+------------+--------------+------------------+--------------+--------------+------------+-----------+-----------+\nonly showing top 5 rows\n\n"
     ]
    }
   ],
   "source": [
    "data.show(5,False)"
   ]
  },
  {
   "cell_type": "code",
   "execution_count": 0,
   "metadata": {
    "application/vnd.databricks.v1+cell": {
     "cellMetadata": {
      "byteLimit": 2048000,
      "rowLimit": 10000
     },
     "inputWidgets": {},
     "nuid": "d28045e6-5b02-4336-bef7-6678ce2068bd",
     "showTitle": false,
     "title": ""
    }
   },
   "outputs": [],
   "source": [
    "data = data.drop(col(\"patient_birth_date\"))"
   ]
  },
  {
   "cell_type": "code",
   "execution_count": 0,
   "metadata": {
    "application/vnd.databricks.v1+cell": {
     "cellMetadata": {
      "byteLimit": 2048000,
      "rowLimit": 10000
     },
     "inputWidgets": {},
     "nuid": "f1785f3f-08e5-4f08-8d44-2d81bbcd0cfd",
     "showTitle": false,
     "title": ""
    }
   },
   "outputs": [],
   "source": [
    "data = data.fillna({\"patient_phone\":\"NA\"})"
   ]
  },
  {
   "cell_type": "code",
   "execution_count": 0,
   "metadata": {
    "application/vnd.databricks.v1+cell": {
     "cellMetadata": {
      "byteLimit": 2048000,
      "rowLimit": 10000
     },
     "inputWidgets": {},
     "nuid": "70d9c84b-40e1-452d-81ba-737cbda17ee3",
     "showTitle": false,
     "title": ""
    }
   },
   "outputs": [
    {
     "output_type": "stream",
     "name": "stdout",
     "output_type": "stream",
     "text": [
      "+----------+------------+--------------+-------------+------------+----+-----------+-----------+\n|Patient_id|Patient_name|patient_gender|patient_phone|disease_name|city|hospital_id|Patient_age|\n+----------+------------+--------------+-------------+------------+----+-----------+-----------+\n|         0|           0|             0|            0|           0|   0|          0|          0|\n+----------+------------+--------------+-------------+------------+----+-----------+-----------+\n\n"
     ]
    }
   ],
   "source": [
    "data.select([count(when(isnan(c)|col(c).isNull(),c)).alias(c) for c in data.columns]).show()"
   ]
  },
  {
   "cell_type": "code",
   "execution_count": 0,
   "metadata": {
    "application/vnd.databricks.v1+cell": {
     "cellMetadata": {
      "byteLimit": 2048000,
      "rowLimit": 10000
     },
     "inputWidgets": {},
     "nuid": "3de262da-182e-4530-9a2d-0ceaebc1c02c",
     "showTitle": false,
     "title": ""
    }
   },
   "outputs": [
    {
     "output_type": "execute_result",
     "data": {
      "text/plain": [
       "True"
      ]
     },
     "execution_count": 37,
     "metadata": {},
     "output_type": "execute_result"
    }
   ],
   "source": [
    "\n",
    "output_container_path = \"abfss://optumstagingdata@optumsadllssa.dfs.core.windows.net\"\n",
    "output_blob_folder = \"optumstagingdata\"\n",
    "data.coalesce(1).write.format(\"csv\").mode(\"overwrite\").option(\"header\",\"true\").format(\"com.databricks.spark.csv\").save(output_blob_folder)\n",
    "files = dbutils.fs.ls(output_blob_folder)\n",
    "output_file = [x for x in files if x.name.startswith(\"part-\")]\n",
    "dbutils.fs.mv(output_file[0].path,\"%s/patientdatastaging.csv\"%output_container_path)"
   ]
  },
  {
   "cell_type": "code",
   "execution_count": 0,
   "metadata": {
    "application/vnd.databricks.v1+cell": {
     "cellMetadata": {
      "byteLimit": 2048000,
      "rowLimit": 10000
     },
     "inputWidgets": {},
     "nuid": "72d39eba-b6ef-4aa8-880d-977c6cd7f9b5",
     "showTitle": false,
     "title": ""
    }
   },
   "outputs": [],
   "source": []
  }
 ],
 "metadata": {
  "application/vnd.databricks.v1+notebook": {
   "dashboards": [],
   "environmentMetadata": null,
   "language": "python",
   "notebookMetadata": {
    "pythonIndentUnit": 4
   },
   "notebookName": "Patient_Transformation",
   "widgets": {}
  }
 },
 "nbformat": 4,
 "nbformat_minor": 0
}
