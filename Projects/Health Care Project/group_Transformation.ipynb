{
 "cells": [
  {
   "cell_type": "code",
   "execution_count": 0,
   "metadata": {
    "application/vnd.databricks.v1+cell": {
     "cellMetadata": {
      "byteLimit": 2048000,
      "rowLimit": 10000
     },
     "inputWidgets": {},
     "nuid": "9afa6f26-0f93-4bd1-8c04-23cf3283fc79",
     "showTitle": false,
     "title": ""
    }
   },
   "outputs": [],
   "source": [
    "import pyspark\n",
    "from pyspark.sql import *\n",
    "from pyspark.sql.functions import *"
   ]
  },
  {
   "cell_type": "code",
   "execution_count": 0,
   "metadata": {
    "application/vnd.databricks.v1+cell": {
     "cellMetadata": {
      "byteLimit": 2048000,
      "rowLimit": 10000
     },
     "inputWidgets": {},
     "nuid": "41c7842e-13a6-4066-b0d4-cd35beb8231f",
     "showTitle": false,
     "title": ""
    }
   },
   "outputs": [],
   "source": [
    "#dbutils.secrets.listScopes()"
   ]
  },
  {
   "cell_type": "code",
   "execution_count": 0,
   "metadata": {
    "application/vnd.databricks.v1+cell": {
     "cellMetadata": {
      "byteLimit": 2048000,
      "rowLimit": 10000
     },
     "inputWidgets": {},
     "nuid": "7659a6b7-d723-47ba-b96f-b49ab0730c31",
     "showTitle": false,
     "title": ""
    }
   },
   "outputs": [],
   "source": [
    "#dbutils.secrets.list(scope=\"databricksscope\")"
   ]
  },
  {
   "cell_type": "code",
   "execution_count": 0,
   "metadata": {
    "application/vnd.databricks.v1+cell": {
     "cellMetadata": {
      "byteLimit": 2048000,
      "rowLimit": 10000
     },
     "inputWidgets": {},
     "nuid": "42eb9f61-c323-4187-878d-03315abe4db1",
     "showTitle": false,
     "title": ""
    }
   },
   "outputs": [],
   "source": [
    "spark.conf.set(\"fs.azure.account.key.optumsadllssa.dfs.core.windows.net\",dbutils.secrets.get(scope=\"databricksscope\",key=\"adlskey\"))"
   ]
  },
  {
   "cell_type": "code",
   "execution_count": 0,
   "metadata": {
    "application/vnd.databricks.v1+cell": {
     "cellMetadata": {
      "byteLimit": 2048000,
      "rowLimit": 10000
     },
     "inputWidgets": {},
     "nuid": "b1d341cd-1344-44a0-b7f7-8b7ccd15ff06",
     "showTitle": false,
     "title": ""
    }
   },
   "outputs": [],
   "source": [
    "#display(dbutils.fs.ls(\"abfss://optumrawdataset@optumsadllssa.dfs.core.windows.net\"))"
   ]
  },
  {
   "cell_type": "code",
   "execution_count": 0,
   "metadata": {
    "application/vnd.databricks.v1+cell": {
     "cellMetadata": {
      "byteLimit": 2048000,
      "rowLimit": 10000
     },
     "inputWidgets": {},
     "nuid": "ead8479b-2f2d-4453-9cf4-bc87c30f43b1",
     "showTitle": false,
     "title": ""
    }
   },
   "outputs": [],
   "source": [
    "data = spark.read.csv('abfss://optumrawdataset@optumsadllssa.dfs.core.windows.net/group.csv',header=True,inferSchema=True)"
   ]
  },
  {
   "cell_type": "code",
   "execution_count": 0,
   "metadata": {
    "application/vnd.databricks.v1+cell": {
     "cellMetadata": {
      "byteLimit": 2048000,
      "rowLimit": 10000
     },
     "inputWidgets": {},
     "nuid": "58c060a2-0256-4b54-aaa5-affa559e1fc5",
     "showTitle": false,
     "title": ""
    }
   },
   "outputs": [
    {
     "output_type": "stream",
     "name": "stdout",
     "output_type": "stream",
     "text": [
      "+-------+---------------+--------+------+----------------------------------------+--------+------+\n|country|premium_written|zip_code|grp_id|grp_name                                |grp_type|city  |\n+-------+---------------+--------+------+----------------------------------------+--------+------+\n|India  |72000          |482018  |GRP101|Life Insurance Corporation of India     |Govt.   |Mumbai|\n|India  |45000          |482049  |GRP102|HDFC Standard Life Insurance Co. Ltd.   |Private |Mumbai|\n|India  |64000          |482030  |GRP103|Max Life Insurance Co. Ltd.             |Private |Delhi |\n|India  |59000          |482028  |GRP104|ICICI Prudential Life Insurance Co. Ltd.|Private |Mumbai|\n|India  |37000          |482014  |GRP105|Kotak Mahindra Life Insurance Co. Ltd.  |Private |Mumbai|\n+-------+---------------+--------+------+----------------------------------------+--------+------+\nonly showing top 5 rows\n\n"
     ]
    }
   ],
   "source": [
    "data.show(5,False)"
   ]
  },
  {
   "cell_type": "code",
   "execution_count": 0,
   "metadata": {
    "application/vnd.databricks.v1+cell": {
     "cellMetadata": {
      "byteLimit": 2048000,
      "rowLimit": 10000
     },
     "inputWidgets": {},
     "nuid": "ff5faa40-9147-4260-8bf4-ce840fe111dc",
     "showTitle": false,
     "title": ""
    }
   },
   "outputs": [
    {
     "output_type": "execute_result",
     "data": {
      "text/plain": [
       "58"
      ]
     },
     "execution_count": 15,
     "metadata": {},
     "output_type": "execute_result"
    }
   ],
   "source": [
    "data.count()"
   ]
  },
  {
   "cell_type": "code",
   "execution_count": 0,
   "metadata": {
    "application/vnd.databricks.v1+cell": {
     "cellMetadata": {
      "byteLimit": 2048000,
      "rowLimit": 10000
     },
     "inputWidgets": {},
     "nuid": "2dcbeeb3-1295-4eae-bef8-0b0ef926957c",
     "showTitle": false,
     "title": ""
    }
   },
   "outputs": [
    {
     "output_type": "stream",
     "name": "stdout",
     "output_type": "stream",
     "text": [
      "+-------+---------------+--------+------+--------+--------+----+\n|country|premium_written|zip_code|grp_id|grp_name|grp_type|city|\n+-------+---------------+--------+------+--------+--------+----+\n|      0|              0|       0|     0|       0|       0|   0|\n+-------+---------------+--------+------+--------+--------+----+\n\n"
     ]
    }
   ],
   "source": [
    "data.select([count(when(isnan(c)|col(c).isNull(),c)).alias(c) for c in data.columns]).show()"
   ]
  },
  {
   "cell_type": "code",
   "execution_count": 0,
   "metadata": {
    "application/vnd.databricks.v1+cell": {
     "cellMetadata": {
      "byteLimit": 2048000,
      "rowLimit": 10000
     },
     "inputWidgets": {},
     "nuid": "ebb08c06-fa9b-4130-a51b-576982d878de",
     "showTitle": false,
     "title": ""
    }
   },
   "outputs": [
    {
     "output_type": "stream",
     "name": "stdout",
     "output_type": "stream",
     "text": [
      "+-------+---------------+--------+------+--------+--------+----+-----+\n|country|premium_written|zip_code|grp_id|grp_name|grp_type|city|count|\n+-------+---------------+--------+------+--------+--------+----+-----+\n+-------+---------------+--------+------+--------+--------+----+-----+\n\n"
     ]
    }
   ],
   "source": [
    "data.groupby(['country','premium_written','zip_code','grp_id','grp_name','grp_type','city']).count().where(\"count>1\").show()"
   ]
  },
  {
   "cell_type": "code",
   "execution_count": 0,
   "metadata": {
    "application/vnd.databricks.v1+cell": {
     "cellMetadata": {
      "byteLimit": 2048000,
      "rowLimit": 10000
     },
     "inputWidgets": {},
     "nuid": "500177a6-8c7c-41e5-922f-ffa4c3433865",
     "showTitle": false,
     "title": ""
    }
   },
   "outputs": [],
   "source": [
    "data = data.dropDuplicates()"
   ]
  },
  {
   "cell_type": "code",
   "execution_count": 0,
   "metadata": {
    "application/vnd.databricks.v1+cell": {
     "cellMetadata": {
      "byteLimit": 2048000,
      "rowLimit": 10000
     },
     "inputWidgets": {},
     "nuid": "8a3841f7-a482-45a1-9907-89a7333accc0",
     "showTitle": false,
     "title": ""
    }
   },
   "outputs": [
    {
     "output_type": "stream",
     "name": "stdout",
     "output_type": "stream",
     "text": [
      "+-------+---------------+--------+------+--------------------+--------+---------+\n|country|premium_written|zip_code|grp_id|            grp_name|grp_type|     city|\n+-------+---------------+--------+------+--------------------+--------+---------+\n|  India|          70000|  482006|GRP107|TATA AIG Life Ins...| Private|   Mumbai|\n|  India|          47000|  482046|GRP119|Canara HSBC Orien...| Private| Gurugram|\n|  India|          79000|  482036|GRP115|Shriram Life Insu...| Private|Hyderabad|\n|  India|          57000|  482011|GRP111|PNB MetLife India...| Private|   Mumbai|\n|  India|          50000|  482017|GRP120|Aegon Life Insura...| Private|   Mumbai|\n|  India|          33000|  482043|GRP114|Sahara India Life...| Private|  Lucknow|\n|  India|          64000|  482030|GRP103|Max Life Insuranc...| Private|    Delhi|\n|  India|          89000|  482011|GRP106|Aditya Birla Sun ...| Private|   Mumbai|\n|  India|          45000|  482049|GRP102|HDFC Standard Lif...| Private|   Mumbai|\n|  India|          64000|  482009|GRP113|Aviva Life Insura...| Private| Gurugram|\n|  India|          48000|  482015|GRP110|Bajaj Allianz Lif...| Private|     Pune|\n|  India|          52000|  482034|GRP108|SBI Life Insuranc...| Private|   Mumbai|\n|  India|          59000|  482017|GRP117|Future Generali I...| Private|   Mumbai|\n|  India|          78000|  482032|GRP109|Exide Life Insura...| Private|Bangalore|\n|  India|          97000|  482023|GRP118|IDBI Federal Life...| Private|   Mumbai|\n|  India|          78000|  482039|GRP121|Pramerica Life In...| Private|   Mumbai|\n|  India|          72000|  482018|GRP101|Life Insurance Co...|   Govt.|   Mumbai|\n|  India|          57000|  482022|GRP112|Reliance Nippon L...| Private|   Mumbai|\n|  India|          59000|  482028|GRP104|ICICI Prudential ...| Private|   Mumbai|\n|  India|          37000|  482014|GRP105|Kotak Mahindra Li...| Private|   Mumbai|\n+-------+---------------+--------+------+--------------------+--------+---------+\nonly showing top 20 rows\n\n"
     ]
    }
   ],
   "source": [
    "data.show()"
   ]
  },
  {
   "cell_type": "code",
   "execution_count": 0,
   "metadata": {
    "application/vnd.databricks.v1+cell": {
     "cellMetadata": {
      "byteLimit": 2048000,
      "rowLimit": 10000
     },
     "inputWidgets": {},
     "nuid": "3de262da-182e-4530-9a2d-0ceaebc1c02c",
     "showTitle": false,
     "title": ""
    }
   },
   "outputs": [
    {
     "output_type": "execute_result",
     "data": {
      "text/plain": [
       "True"
      ]
     },
     "execution_count": 20,
     "metadata": {},
     "output_type": "execute_result"
    }
   ],
   "source": [
    "\n",
    "output_container_path = \"abfss://optumstagingdata@optumsadllssa.dfs.core.windows.net\"\n",
    "output_blob_folder = \"optumstagingdata\"\n",
    "data.coalesce(1).write.format(\"csv\").mode(\"overwrite\").option(\"header\",\"true\").format(\"com.databricks.spark.csv\").save(output_blob_folder)\n",
    "files = dbutils.fs.ls(output_blob_folder)\n",
    "output_file = [x for x in files if x.name.startswith(\"part-\")]\n",
    "dbutils.fs.mv(output_file[0].path,\"%s/groupdatastaging.csv\"%output_container_path)"
   ]
  },
  {
   "cell_type": "code",
   "execution_count": 0,
   "metadata": {
    "application/vnd.databricks.v1+cell": {
     "cellMetadata": {
      "byteLimit": 2048000,
      "rowLimit": 10000
     },
     "inputWidgets": {},
     "nuid": "72d39eba-b6ef-4aa8-880d-977c6cd7f9b5",
     "showTitle": false,
     "title": ""
    }
   },
   "outputs": [],
   "source": []
  }
 ],
 "metadata": {
  "application/vnd.databricks.v1+notebook": {
   "dashboards": [],
   "environmentMetadata": null,
   "language": "python",
   "notebookMetadata": {
    "pythonIndentUnit": 4
   },
   "notebookName": "group_Transformation",
   "widgets": {}
  }
 },
 "nbformat": 4,
 "nbformat_minor": 0
}
