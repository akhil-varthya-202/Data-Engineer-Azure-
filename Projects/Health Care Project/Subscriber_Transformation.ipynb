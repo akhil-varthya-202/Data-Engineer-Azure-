{
 "cells": [
  {
   "cell_type": "code",
   "execution_count": 0,
   "metadata": {
    "application/vnd.databricks.v1+cell": {
     "cellMetadata": {
      "byteLimit": 2048000,
      "rowLimit": 10000
     },
     "inputWidgets": {},
     "nuid": "9afa6f26-0f93-4bd1-8c04-23cf3283fc79",
     "showTitle": false,
     "title": ""
    }
   },
   "outputs": [],
   "source": [
    "import pyspark\n",
    "from pyspark.sql import *\n",
    "from pyspark.sql.functions import *"
   ]
  },
  {
   "cell_type": "code",
   "execution_count": 0,
   "metadata": {
    "application/vnd.databricks.v1+cell": {
     "cellMetadata": {
      "byteLimit": 2048000,
      "rowLimit": 10000
     },
     "inputWidgets": {},
     "nuid": "41c7842e-13a6-4066-b0d4-cd35beb8231f",
     "showTitle": false,
     "title": ""
    }
   },
   "outputs": [],
   "source": [
    "#dbutils.secrets.listScopes()"
   ]
  },
  {
   "cell_type": "code",
   "execution_count": 0,
   "metadata": {
    "application/vnd.databricks.v1+cell": {
     "cellMetadata": {
      "byteLimit": 2048000,
      "rowLimit": 10000
     },
     "inputWidgets": {},
     "nuid": "7659a6b7-d723-47ba-b96f-b49ab0730c31",
     "showTitle": false,
     "title": ""
    }
   },
   "outputs": [],
   "source": [
    "#dbutils.secrets.list(scope=\"databricksscope\")"
   ]
  },
  {
   "cell_type": "code",
   "execution_count": 0,
   "metadata": {
    "application/vnd.databricks.v1+cell": {
     "cellMetadata": {
      "byteLimit": 2048000,
      "rowLimit": 10000
     },
     "inputWidgets": {},
     "nuid": "42eb9f61-c323-4187-878d-03315abe4db1",
     "showTitle": false,
     "title": ""
    }
   },
   "outputs": [],
   "source": [
    "spark.conf.set(\"fs.azure.account.key.optumsadllssa.dfs.core.windows.net\",dbutils.secrets.get(scope=\"databricksscope\",key=\"adlskey\"))"
   ]
  },
  {
   "cell_type": "code",
   "execution_count": 0,
   "metadata": {
    "application/vnd.databricks.v1+cell": {
     "cellMetadata": {
      "byteLimit": 2048000,
      "rowLimit": 10000
     },
     "inputWidgets": {},
     "nuid": "b1d341cd-1344-44a0-b7f7-8b7ccd15ff06",
     "showTitle": false,
     "title": ""
    }
   },
   "outputs": [
    {
     "output_type": "display_data",
     "data": {
      "text/html": [
       "<style scoped>\n",
       "  .table-result-container {\n",
       "    max-height: 300px;\n",
       "    overflow: auto;\n",
       "  }\n",
       "  table, th, td {\n",
       "    border: 1px solid black;\n",
       "    border-collapse: collapse;\n",
       "  }\n",
       "  th, td {\n",
       "    padding: 5px;\n",
       "  }\n",
       "  th {\n",
       "    text-align: left;\n",
       "  }\n",
       "</style><div class='table-result-container'><table class='table-result'><thead style='background-color: white'><tr><th>path</th><th>name</th><th>size</th><th>modificationTime</th></tr></thead><tbody><tr><td>abfss://optumrawdataset@optumsadllssa.dfs.core.windows.net/Claims.csv</td><td>Claims.csv</td><td>5766</td><td>1716728851000</td></tr><tr><td>abfss://optumrawdataset@optumsadllssa.dfs.core.windows.net/Patient_records.csv</td><td>Patient_records.csv</td><td>5110</td><td>1716718820000</td></tr><tr><td>abfss://optumrawdataset@optumsadllssa.dfs.core.windows.net/disease.csv</td><td>disease.csv</td><td>1489</td><td>1716718820000</td></tr><tr><td>abfss://optumrawdataset@optumsadllssa.dfs.core.windows.net/group.csv</td><td>group.csv</td><td>4390</td><td>1716718820000</td></tr><tr><td>abfss://optumrawdataset@optumsadllssa.dfs.core.windows.net/hospital.csv</td><td>hospital.csv</td><td>1528</td><td>1716728950000</td></tr><tr><td>abfss://optumrawdataset@optumsadllssa.dfs.core.windows.net/subgroup.csv</td><td>subgroup.csv</td><td>561</td><td>1716718820000</td></tr><tr><td>abfss://optumrawdataset@optumsadllssa.dfs.core.windows.net/subscriber.csv</td><td>subscriber.csv</td><td>12061</td><td>1716718820000</td></tr></tbody></table></div>"
      ]
     },
     "metadata": {
      "application/vnd.databricks.v1+output": {
       "addedWidgets": {},
       "aggData": [],
       "aggError": "",
       "aggOverflow": false,
       "aggSchema": [],
       "aggSeriesLimitReached": false,
       "aggType": "",
       "arguments": {},
       "columnCustomDisplayInfos": {},
       "data": [
        [
         "abfss://optumrawdataset@optumsadllssa.dfs.core.windows.net/Claims.csv",
         "Claims.csv",
         5766,
         1716728851000
        ],
        [
         "abfss://optumrawdataset@optumsadllssa.dfs.core.windows.net/Patient_records.csv",
         "Patient_records.csv",
         5110,
         1716718820000
        ],
        [
         "abfss://optumrawdataset@optumsadllssa.dfs.core.windows.net/disease.csv",
         "disease.csv",
         1489,
         1716718820000
        ],
        [
         "abfss://optumrawdataset@optumsadllssa.dfs.core.windows.net/group.csv",
         "group.csv",
         4390,
         1716718820000
        ],
        [
         "abfss://optumrawdataset@optumsadllssa.dfs.core.windows.net/hospital.csv",
         "hospital.csv",
         1528,
         1716728950000
        ],
        [
         "abfss://optumrawdataset@optumsadllssa.dfs.core.windows.net/subgroup.csv",
         "subgroup.csv",
         561,
         1716718820000
        ],
        [
         "abfss://optumrawdataset@optumsadllssa.dfs.core.windows.net/subscriber.csv",
         "subscriber.csv",
         12061,
         1716718820000
        ]
       ],
       "datasetInfos": [],
       "dbfsResultPath": null,
       "isJsonSchema": true,
       "metadata": {},
       "overflow": false,
       "plotOptions": {
        "customPlotOptions": {},
        "displayType": "table",
        "pivotAggregation": null,
        "pivotColumns": null,
        "xColumns": null,
        "yColumns": null
       },
       "removedWidgets": [],
       "schema": [
        {
         "metadata": "{}",
         "name": "path",
         "type": "\"string\""
        },
        {
         "metadata": "{}",
         "name": "name",
         "type": "\"string\""
        },
        {
         "metadata": "{}",
         "name": "size",
         "type": "\"long\""
        },
        {
         "metadata": "{}",
         "name": "modificationTime",
         "type": "\"long\""
        }
       ],
       "type": "table"
      }
     },
     "output_type": "display_data"
    }
   ],
   "source": [
    "display(dbutils.fs.ls(\"abfss://optumrawdataset@optumsadllssa.dfs.core.windows.net\"))"
   ]
  },
  {
   "cell_type": "code",
   "execution_count": 0,
   "metadata": {
    "application/vnd.databricks.v1+cell": {
     "cellMetadata": {
      "byteLimit": 2048000,
      "rowLimit": 10000
     },
     "inputWidgets": {},
     "nuid": "ead8479b-2f2d-4453-9cf4-bc87c30f43b1",
     "showTitle": false,
     "title": ""
    }
   },
   "outputs": [],
   "source": [
    "data = spark.read.csv('abfss://optumrawdataset@optumsadllssa.dfs.core.windows.net/subscriber.csv',header=True,inferSchema=True)"
   ]
  },
  {
   "cell_type": "code",
   "execution_count": 0,
   "metadata": {
    "application/vnd.databricks.v1+cell": {
     "cellMetadata": {
      "byteLimit": 2048000,
      "rowLimit": 10000
     },
     "inputWidgets": {},
     "nuid": "58c060a2-0256-4b54-aaa5-affa559e1fc5",
     "showTitle": false,
     "title": ""
    }
   },
   "outputs": [
    {
     "output_type": "stream",
     "name": "stdout",
     "output_type": "stream",
     "text": [
      "+----------+----------+-----------+-----------+----------+------+--------------+-------+------------+--------+---------+--------+----------+----------+\n|sub_id    |first_name|last_name  |Street     |Birth_date|Gender|Phone         |Country|City        |Zip Code|Subgrp_id|Elig_ind|eff_date  |term_date |\n+----------+----------+-----------+-----------+----------+------+--------------+-------+------------+--------+---------+--------+----------+----------+\n|SUBID10000|Harbir    |Vishwakarma|Baria Marg |1924-06-30|Female|+91 0112009318|India  |Rourkela    |767058  |S107     |Y       |1944-06-30|1954-01-14|\n|SUBID10001|Brahmdev  |Sonkar     |Lala Marg  |1948-12-20|Female|+91 1727749552|India  |Tiruvottiyur|34639   |S105     |Y       |1968-12-20|1970-05-16|\n|SUBID10002|Ujjawal   |Devi       |Mammen Zila|1980-04-16|Male  |+91 8547451606|India  |Berhampur   |914455  |S106     |N       |2000-04-16|2008-05-04|\n|SUBID10003|Ballari   |Mishra     |Sahni Zila |1969-09-25|Female|+91 0106026841|India  |Bihar Sharif|91481   |S104     |N       |1989-09-25|1995-06-05|\n|SUBID10004|Devnath   |Srivastav  |Magar Zila |1946-05-01|Female|+91 1868774631|India  |Bidhannagar |531742  |S110     |N       |1966-05-01|1970-12-09|\n+----------+----------+-----------+-----------+----------+------+--------------+-------+------------+--------+---------+--------+----------+----------+\nonly showing top 5 rows\n\n"
     ]
    }
   ],
   "source": [
    "data.show(5,False)"
   ]
  },
  {
   "cell_type": "code",
   "execution_count": 0,
   "metadata": {
    "application/vnd.databricks.v1+cell": {
     "cellMetadata": {
      "byteLimit": 2048000,
      "rowLimit": 10000
     },
     "inputWidgets": {},
     "nuid": "ff5faa40-9147-4260-8bf4-ce840fe111dc",
     "showTitle": false,
     "title": ""
    }
   },
   "outputs": [
    {
     "output_type": "execute_result",
     "data": {
      "text/plain": [
       "100"
      ]
     },
     "execution_count": 172,
     "metadata": {},
     "output_type": "execute_result"
    }
   ],
   "source": [
    "data.count()"
   ]
  },
  {
   "cell_type": "code",
   "execution_count": 0,
   "metadata": {
    "application/vnd.databricks.v1+cell": {
     "cellMetadata": {
      "byteLimit": 2048000,
      "rowLimit": 10000
     },
     "inputWidgets": {},
     "nuid": "2dcbeeb3-1295-4eae-bef8-0b0ef926957c",
     "showTitle": false,
     "title": ""
    }
   },
   "outputs": [],
   "source": [
    "#data.select([count(when(isnan(c)|col(c).isNull(),c)).alias(c) for c in data.columns]).show()"
   ]
  },
  {
   "cell_type": "code",
   "execution_count": 0,
   "metadata": {
    "application/vnd.databricks.v1+cell": {
     "cellMetadata": {
      "byteLimit": 2048000,
      "rowLimit": 10000
     },
     "inputWidgets": {},
     "nuid": "ebb08c06-fa9b-4130-a51b-576982d878de",
     "showTitle": false,
     "title": ""
    }
   },
   "outputs": [
    {
     "output_type": "stream",
     "name": "stdout",
     "output_type": "stream",
     "text": [
      "+------+----------+---------+------+----------+------+-----+-------+----+--------+---------+--------+--------+---------+-----+\n|sub_id|first_name|last_name|Street|Birth_date|Gender|Phone|Country|City|Zip Code|Subgrp_id|Elig_ind|eff_date|term_date|count|\n+------+----------+---------+------+----------+------+-----+-------+----+--------+---------+--------+--------+---------+-----+\n+------+----------+---------+------+----------+------+-----+-------+----+--------+---------+--------+--------+---------+-----+\n\n"
     ]
    }
   ],
   "source": [
    "data.groupby(data.columns).count().where(\"count>1\").show()"
   ]
  },
  {
   "cell_type": "code",
   "execution_count": 0,
   "metadata": {
    "application/vnd.databricks.v1+cell": {
     "cellMetadata": {
      "byteLimit": 2048000,
      "rowLimit": 10000
     },
     "inputWidgets": {},
     "nuid": "500177a6-8c7c-41e5-922f-ffa4c3433865",
     "showTitle": false,
     "title": ""
    }
   },
   "outputs": [],
   "source": [
    "data = data.dropDuplicates()"
   ]
  },
  {
   "cell_type": "code",
   "execution_count": 0,
   "metadata": {
    "application/vnd.databricks.v1+cell": {
     "cellMetadata": {
      "byteLimit": 2048000,
      "rowLimit": 10000
     },
     "inputWidgets": {},
     "nuid": "ee167317-2184-4794-84be-f378845fbd8c",
     "showTitle": false,
     "title": ""
    }
   },
   "outputs": [],
   "source": [
    "data = data.replace('NaN',None)"
   ]
  },
  {
   "cell_type": "code",
   "execution_count": 0,
   "metadata": {
    "application/vnd.databricks.v1+cell": {
     "cellMetadata": {
      "byteLimit": 2048000,
      "rowLimit": 10000
     },
     "inputWidgets": {},
     "nuid": "5647f211-b2bb-48a7-bb20-9d2651050eae",
     "showTitle": false,
     "title": ""
    }
   },
   "outputs": [],
   "source": [
    "data = data.fillna({'Elig_ind':'N','first_name':\"Guest/NA\"})"
   ]
  },
  {
   "cell_type": "code",
   "execution_count": 0,
   "metadata": {
    "application/vnd.databricks.v1+cell": {
     "cellMetadata": {
      "byteLimit": 2048000,
      "rowLimit": 10000
     },
     "inputWidgets": {},
     "nuid": "534151be-679e-4554-a61a-4a5d25eb28d0",
     "showTitle": false,
     "title": ""
    }
   },
   "outputs": [
    {
     "output_type": "stream",
     "name": "stdout",
     "output_type": "stream",
     "text": [
      "+----------+----------+-----------+------------+----------+------+--------------+-------+------------+--------+---------+--------+----------+----------+\n|sub_id    |first_name|last_name  |Street      |Birth_date|Gender|Phone         |Country|City        |Zip Code|Subgrp_id|Elig_ind|eff_date  |term_date |\n+----------+----------+-----------+------------+----------+------+--------------+-------+------------+--------+---------+--------+----------+----------+\n|SUBID10001|Brahmdev  |Sonkar     |Lala Marg   |1948-12-20|Female|+91 1727749552|India  |Tiruvottiyur|34639   |S105     |Y       |1968-12-20|1970-05-16|\n|SUBID10004|Devnath   |Srivastav  |Magar Zila  |1946-05-01|Female|+91 1868774631|India  |Bidhannagar |531742  |S110     |N       |1966-05-01|1970-12-09|\n|SUBID10005|Atasi     |Seth       |Khatri Nagar|1967-10-02|Male  |+91 9747336855|India  |Amravati    |229062  |S104     |Y       |1987-10-02|1995-02-13|\n|SUBID10003|Ballari   |Mishra     |Sahni Zila  |1969-09-25|Female|+91 0106026841|India  |Bihar Sharif|91481   |S104     |N       |1989-09-25|1995-06-05|\n|SUBID10000|Harbir    |Vishwakarma|Baria Marg  |1924-06-30|Female|+91 0112009318|India  |Rourkela    |767058  |S107     |Y       |1944-06-30|1954-01-14|\n+----------+----------+-----------+------------+----------+------+--------------+-------+------------+--------+---------+--------+----------+----------+\nonly showing top 5 rows\n\n"
     ]
    }
   ],
   "source": [
    "data.show(5,False)"
   ]
  },
  {
   "cell_type": "code",
   "execution_count": 0,
   "metadata": {
    "application/vnd.databricks.v1+cell": {
     "cellMetadata": {
      "byteLimit": 2048000,
      "rowLimit": 10000
     },
     "inputWidgets": {},
     "nuid": "70d9c84b-40e1-452d-81ba-737cbda17ee3",
     "showTitle": false,
     "title": ""
    }
   },
   "outputs": [],
   "source": [
    "#data.select([count(when(isnan(c)|col(c).isNull(),c)).alias(c) for c in data.columns]).show()"
   ]
  },
  {
   "cell_type": "code",
   "execution_count": 0,
   "metadata": {
    "application/vnd.databricks.v1+cell": {
     "cellMetadata": {
      "byteLimit": 2048000,
      "rowLimit": 10000
     },
     "inputWidgets": {},
     "nuid": "c4d5040a-e76a-405c-b2b7-9d9994a58f72",
     "showTitle": false,
     "title": ""
    }
   },
   "outputs": [],
   "source": [
    "data = data.drop('Phone')"
   ]
  },
  {
   "cell_type": "code",
   "execution_count": 0,
   "metadata": {
    "application/vnd.databricks.v1+cell": {
     "cellMetadata": {
      "byteLimit": 2048000,
      "rowLimit": 10000
     },
     "inputWidgets": {},
     "nuid": "72d3531e-65b4-4c44-afb0-5904ff7894fe",
     "showTitle": false,
     "title": ""
    }
   },
   "outputs": [],
   "source": [
    "data = data.withColumn(\"Subscriber_age\",(months_between(current_date(),col('Birth_date'))/12).cast(\"int\"))"
   ]
  },
  {
   "cell_type": "code",
   "execution_count": 0,
   "metadata": {
    "application/vnd.databricks.v1+cell": {
     "cellMetadata": {
      "byteLimit": 2048000,
      "rowLimit": 10000
     },
     "inputWidgets": {},
     "nuid": "1b802312-39d9-4546-8847-bed3fb8b719e",
     "showTitle": false,
     "title": ""
    }
   },
   "outputs": [],
   "source": [
    "#data.select([count(when(isnan(c)|col(c).isNull(),c)).alias(c) for c in data.columns]).show()"
   ]
  },
  {
   "cell_type": "code",
   "execution_count": 0,
   "metadata": {
    "application/vnd.databricks.v1+cell": {
     "cellMetadata": {
      "byteLimit": 2048000,
      "rowLimit": 10000
     },
     "inputWidgets": {},
     "nuid": "e158ed94-b64c-493d-9403-c25b87c81741",
     "showTitle": false,
     "title": ""
    }
   },
   "outputs": [
    {
     "output_type": "stream",
     "name": "stdout",
     "output_type": "stream",
     "text": [
      "root\n |-- sub_id: string (nullable = true)\n |-- first_name: string (nullable = false)\n |-- last_name: string (nullable = true)\n |-- Street: string (nullable = true)\n |-- Birth_date: date (nullable = true)\n |-- Gender: string (nullable = true)\n |-- Country: string (nullable = true)\n |-- City: string (nullable = true)\n |-- Zip Code: integer (nullable = true)\n |-- Subgrp_id: string (nullable = true)\n |-- Elig_ind: string (nullable = false)\n |-- eff_date: date (nullable = true)\n |-- term_date: date (nullable = true)\n |-- Subscriber_age: integer (nullable = true)\n\n"
     ]
    }
   ],
   "source": [
    "data.printSchema()"
   ]
  },
  {
   "cell_type": "code",
   "execution_count": 0,
   "metadata": {
    "application/vnd.databricks.v1+cell": {
     "cellMetadata": {
      "byteLimit": 2048000,
      "rowLimit": 10000
     },
     "inputWidgets": {},
     "nuid": "d01a850f-31ff-496c-9875-55e40c0f32a9",
     "showTitle": false,
     "title": ""
    }
   },
   "outputs": [],
   "source": [
    "data = data.withColumn(\"Subscriber_age\",(months_between(current_date(),col('Birth_date'))/12).cast(\"int\"))"
   ]
  },
  {
   "cell_type": "code",
   "execution_count": 0,
   "metadata": {
    "application/vnd.databricks.v1+cell": {
     "cellMetadata": {
      "byteLimit": 2048000,
      "rowLimit": 10000
     },
     "inputWidgets": {},
     "nuid": "058df7d1-64ca-4f01-90b6-36d87fa446cb",
     "showTitle": false,
     "title": ""
    }
   },
   "outputs": [
    {
     "output_type": "stream",
     "name": "stdout",
     "output_type": "stream",
     "text": [
      "+----------+----------+-----------+-----------------+----------+------+-------+--------------------+--------+---------+--------+----------+----------+--------------+\n|    sub_id|first_name|  last_name|           Street|Birth_date|Gender|Country|                City|Zip Code|Subgrp_id|Elig_ind|  eff_date| term_date|Subscriber_age|\n+----------+----------+-----------+-----------------+----------+------+-------+--------------------+--------+---------+--------+----------+----------+--------------+\n|SUBID10001|  Brahmdev|     Sonkar|        Lala Marg|1948-12-20|Female|  India|        Tiruvottiyur|   34639|     S105|       Y|1968-12-20|1970-05-16|            75|\n|SUBID10008|   Gurudas|      Gupta|      Sarin Nagar|1945-05-06|  Male|  India|           Kamarhati|  933226|     S103|       Y|1965-05-06|1970-09-16|            79|\n|SUBID10019|  Guest/NA|     Maurya|     Sharaf Nagar|1924-11-09|Female|  India|            Jabalpur|  958538|     S104|       N|1944-11-09|1951-10-14|            99|\n| SUBID1006|    Manish|     Maurya|Swaminathan Chowk|1967-06-06|  Male|  India|              Panvel|  438733|     S109|       N|1987-06-06|1995-03-21|            56|\n|SUBID10004|   Devnath|  Srivastav|       Magar Zila|1946-05-01|Female|  India|         Bidhannagar|  531742|     S110|       N|1966-05-01|1970-12-09|            78|\n| SUBID1020|     Umang|  Srivastav|      Balay Chowk|1963-07-14|Female|  India|            Haridwar|  181692|     S109|       Y|1983-07-14|1986-01-15|            60|\n|SUBID10007|     Aakar|      Yadav|            Swamy|1925-03-05|Female|  India|        Bihar Sharif|  535907|     S104|       N|1945-03-05|1946-11-07|            99|\n|SUBID10005|     Atasi|       Seth|     Khatri Nagar|1967-10-02|  Male|  India|            Amravati|  229062|     S104|       Y|1987-10-02|1995-02-13|            56|\n|SUBID10013|  Brahmvir|        Rai|        Shah Path|1991-11-11|  Male|  India|              Ambala|  249898|     S106|       N|2011-11-11|2020-05-23|            32|\n| SUBID1010|  Guest/NA|     Divedi|          Dhillon|1976-02-03|  Male|  India|              Rajkot|  911319|     S102|       Y|1996-02-03|2002-01-27|            48|\n|SUBID10012|Dharmadaas|     Tiwari|             Rama|1964-04-29|  Male|  India|Bhalswa Jahangir Pur|  430793|     S103|       N|1984-04-29|1988-02-07|            60|\n|SUBID10018|Bhagavaana|      Kumar|    Kulkarni Zila|1935-09-16|Female|  India|        Shahjahanpur|  597276|     S101|       N|1955-09-16|1958-05-31|            88|\n|SUBID10015|   Bhagvan|  Srivastav|            Edwin|1966-07-24|Female|  India|          Bhimavaram|  436513|     S105|       Y|1986-07-24|1988-02-04|            57|\n|SUBID10009|  Guest/NA|      Gupta|    Thakur Circle|1925-06-12|  Male|  India|           Bangalore|  957469|     S105|       Y|1945-06-12|1953-08-30|            98|\n|SUBID10011|  Guest/NA|Vishwakarma|      Rajagopalan|1955-01-22|Female|  India|           Ghaziabad|  337042|     S106|       N|1975-01-22|1978-11-02|            69|\n|SUBID10014|  Guest/NA|  Srivastav|     Chandra Path|1981-01-25|Female|  India|Surendranagar Dud...|  111966|     S102|       N|2001-01-25|2005-07-13|            43|\n|SUBID10016| Amritkala|  Srivastav|        Guha Path|1933-11-20|Female|  India|              Meerut|  863467|     S106|       Y|1953-11-20|1955-07-29|            90|\n|SUBID10003|   Ballari|     Mishra|       Sahni Zila|1969-09-25|Female|  India|        Bihar Sharif|   91481|     S104|       N|1989-09-25|1995-06-05|            54|\n|SUBID10000|    Harbir|Vishwakarma|       Baria Marg|1924-06-30|Female|  India|            Rourkela|  767058|     S107|       Y|1944-06-30|1954-01-14|            99|\n|SUBID10002|   Ujjawal|       Devi|      Mammen Zila|1980-04-16|  Male|  India|           Berhampur|  914455|     S106|       N|2000-04-16|2008-05-04|            44|\n+----------+----------+-----------+-----------------+----------+------+-------+--------------------+--------+---------+--------+----------+----------+--------------+\nonly showing top 20 rows\n\n"
     ]
    }
   ],
   "source": [
    "data.show()"
   ]
  },
  {
   "cell_type": "code",
   "execution_count": 0,
   "metadata": {
    "application/vnd.databricks.v1+cell": {
     "cellMetadata": {
      "byteLimit": 2048000,
      "rowLimit": 10000
     },
     "inputWidgets": {},
     "nuid": "53bc578c-93a4-4754-a46a-3fcf0ecc6347",
     "showTitle": false,
     "title": ""
    }
   },
   "outputs": [],
   "source": [
    "data = data.drop(col('Birth_date'))"
   ]
  },
  {
   "cell_type": "code",
   "execution_count": 0,
   "metadata": {
    "application/vnd.databricks.v1+cell": {
     "cellMetadata": {
      "byteLimit": 2048000,
      "rowLimit": 10000
     },
     "inputWidgets": {},
     "nuid": "55773c5b-b60b-43cb-ae63-b3da97d7f5ac",
     "showTitle": false,
     "title": ""
    }
   },
   "outputs": [
    {
     "output_type": "stream",
     "name": "stdout",
     "output_type": "stream",
     "text": [
      "+----------+----------+---------+---------+------+-------+--------+--------+---------+--------+----------+----------+--------------+\n|    sub_id|first_name|last_name|   Street|Gender|Country|    City|Zip Code|Subgrp_id|Elig_ind|  eff_date| term_date|Subscriber_age|\n+----------+----------+---------+---------+------+-------+--------+--------+---------+--------+----------+----------+--------------+\n|SUBID10022|   Prakash|      Rao|   Sachar|Female|  India|Kottayam|  180680|     NULL|       N|1943-09-15|1948-10-19|           100|\n|SUBID10049|   Paridhi|    Yadav|Sant Path|Female|  India|Jabalpur|  883754|     NULL|       N|1979-03-27|1985-06-01|            65|\n+----------+----------+---------+---------+------+-------+--------+--------+---------+--------+----------+----------+--------------+\n\n"
     ]
    }
   ],
   "source": [
    "data.select(\"*\").where(col('Subgrp_id').isNull()).show()"
   ]
  },
  {
   "cell_type": "code",
   "execution_count": 0,
   "metadata": {
    "application/vnd.databricks.v1+cell": {
     "cellMetadata": {
      "byteLimit": 2048000,
      "rowLimit": 10000
     },
     "inputWidgets": {},
     "nuid": "2eeb4056-7335-49ed-a7ae-a7171e0ee706",
     "showTitle": false,
     "title": ""
    }
   },
   "outputs": [],
   "source": [
    "data = data.withColumn(\"Subgrp_id\",when(col('sub_id')==\"SUBID10022\",\"S110\").otherwise(col(\"Subgrp_id\")))"
   ]
  },
  {
   "cell_type": "code",
   "execution_count": 0,
   "metadata": {
    "application/vnd.databricks.v1+cell": {
     "cellMetadata": {
      "byteLimit": 2048000,
      "rowLimit": 10000
     },
     "inputWidgets": {},
     "nuid": "c313d309-0702-48d7-ba28-fdc67cf0126a",
     "showTitle": false,
     "title": ""
    }
   },
   "outputs": [],
   "source": [
    "data = data.withColumn(\"Subgrp_id\",when(col('sub_id')==\"SUBID10049\",\"S107\").otherwise(col(\"Subgrp_id\")))"
   ]
  },
  {
   "cell_type": "code",
   "execution_count": 0,
   "metadata": {
    "application/vnd.databricks.v1+cell": {
     "cellMetadata": {
      "byteLimit": 2048000,
      "rowLimit": 10000
     },
     "inputWidgets": {},
     "nuid": "6536e7da-2cae-4bd3-96be-b9f530a02f65",
     "showTitle": false,
     "title": ""
    }
   },
   "outputs": [
    {
     "output_type": "stream",
     "name": "stdout",
     "output_type": "stream",
     "text": [
      "+------+----------+---------+------+------+-------+----+--------+---------+--------+--------+---------+--------------+\n|sub_id|first_name|last_name|Street|Gender|Country|City|Zip Code|Subgrp_id|Elig_ind|eff_date|term_date|Subscriber_age|\n+------+----------+---------+------+------+-------+----+--------+---------+--------+--------+---------+--------------+\n+------+----------+---------+------+------+-------+----+--------+---------+--------+--------+---------+--------------+\n\n"
     ]
    }
   ],
   "source": [
    "data.select(\"*\").where(col('Subgrp_id').isNull()).show()"
   ]
  },
  {
   "cell_type": "code",
   "execution_count": 0,
   "metadata": {
    "application/vnd.databricks.v1+cell": {
     "cellMetadata": {
      "byteLimit": 2048000,
      "rowLimit": 10000
     },
     "inputWidgets": {},
     "nuid": "3208953d-ac7e-4c60-a8c5-eb46f56738b3",
     "showTitle": false,
     "title": ""
    }
   },
   "outputs": [],
   "source": [
    "#data.select([count(when(isnan(c)|col(c).isNull(),c)).alias(c) for c in data.columns]).show()"
   ]
  },
  {
   "cell_type": "code",
   "execution_count": 0,
   "metadata": {
    "application/vnd.databricks.v1+cell": {
     "cellMetadata": {
      "byteLimit": 2048000,
      "rowLimit": 10000
     },
     "inputWidgets": {},
     "nuid": "8bfb68c2-df54-430c-857a-f4cdd9c19487",
     "showTitle": false,
     "title": ""
    }
   },
   "outputs": [
    {
     "output_type": "stream",
     "name": "stdout",
     "output_type": "stream",
     "text": [
      "+----------+----------+---------+-----------------+------+-------+----------------+--------+---------+--------+----------+----------+--------------+\n|    sub_id|first_name|last_name|           Street|Gender|Country|            City|Zip Code|Subgrp_id|Elig_ind|  eff_date| term_date|Subscriber_age|\n+----------+----------+---------+-----------------+------+-------+----------------+--------+---------+--------+----------+----------+--------------+\n|SUBID10048|Chitranjan|   Mishra|      Madan Nagar|Female|  India|           Morbi|  945697|     S108|       N|1945-09-09|1952-06-21|            98|\n|SUBID10001|  Brahmdev|   Sonkar|        Lala Marg|Female|  India|    Tiruvottiyur|   34639|     S105|       Y|1968-12-20|1970-05-16|            75|\n|SUBID10095|   Ekaaksh|      Rai|      Bansal Ganj|Others|  India|Pimpri-Chinchwad|  158186|     S107|       N|1953-12-02|1960-07-29|            90|\n|SUBID10066|  Guest/NA|     Seth|   Chaudhuri Marg|  Male|  India|        Kolhapur|  597470|     S102|       N|1950-09-01|1957-12-01|            93|\n|SUBID10008|   Gurudas|    Gupta|      Sarin Nagar|  Male|  India|       Kamarhati|  933226|     S103|       Y|1965-05-06|1970-09-16|            79|\n|SUBID10031|  Kanhaiya|      Lal|     Savant Nagar|Female|  India|          Mysore|  638433|     S104|       Y|1974-10-19|1977-01-03|            69|\n| SUBID1034|     Gopal|      Das|            Saini|  Male|  India|       Raebareli|  176221|     S101|       N|2006-05-14|2011-04-08|            38|\n| SUBID1045|   Drashti|   Divedi|           Wadhwa|  Male|  India|         Saharsa|  581568|     S104|       Y|1946-07-03|1952-11-27|            97|\n|SUBID10059|  Gajabahu|    Singh|             Kara|  Male|  India|           Udupi|  637221|     S101|       Y|1979-03-15|1986-07-05|            65|\n|SUBID10072|     Gopal|Srivastav|     Desai Street|Female|  India|     Bidhannagar|  761800|     S103|       Y|1956-03-11|1964-07-28|            88|\n|SUBID10023|Vaijayanti|   Pratap|     Khalsa Nagar|  Male|  India|  Mira-Bhayandar|  419190|     S102|       Y|1940-11-13|1946-03-10|           103|\n|SUBID10024|  Menakshi|     Seth|     Wable Street|  Male|  India|       Kamarhati|  882577|     S107|       N|2007-03-06|2014-02-25|            37|\n| SUBID1087|  Guest/NA|   Pandit|  Srivastava Path|Female|  India|         Sambhal|  279219|     S103|       N|1944-12-10|1951-07-16|            99|\n|SUBID10019|  Guest/NA|   Maurya|     Sharaf Nagar|Female|  India|        Jabalpur|  958538|     S104|       N|1944-11-09|1951-10-14|            99|\n|SUBID10053|  Guest/NA|   Sonkar|      Shetty Marg|  Male|  India|            Pali|  383290|     S102|       Y|2008-06-27|2016-10-30|            35|\n|SUBID10061|  Guest/NA|   Rajput|       Anand Path|Female|  India|       Kharagpur|  934938|     S103|       N|1986-09-25|1991-06-03|            57|\n| SUBID1006|    Manish|   Maurya|Swaminathan Chowk|  Male|  India|          Panvel|  438733|     S109|       N|1987-06-06|1995-03-21|            56|\n|SUBID10051|  Guest/NA|   Rajput|    Chauhan Chowk|  Male|  India|       Baranagar|  765234|     S103|       Y|1966-10-17|1969-06-26|            77|\n|SUBID10077|    Girija|  Maurrya|     Iyengar Road|  Male|  India|          Jaipur|  204379|     S105|       N|1953-04-25|1963-04-18|            91|\n|SUBID10088|  Guest/NA|   Rajput|         Dua Zila|Female|  India|       Tadipatri|  743449|     S110|       N|1942-07-30|1949-06-07|           101|\n+----------+----------+---------+-----------------+------+-------+----------------+--------+---------+--------+----------+----------+--------------+\nonly showing top 20 rows\n\n"
     ]
    }
   ],
   "source": [
    "data.show()"
   ]
  },
  {
   "cell_type": "code",
   "execution_count": 0,
   "metadata": {
    "application/vnd.databricks.v1+cell": {
     "cellMetadata": {
      "byteLimit": 2048000,
      "rowLimit": 10000
     },
     "inputWidgets": {},
     "nuid": "3de262da-182e-4530-9a2d-0ceaebc1c02c",
     "showTitle": false,
     "title": ""
    }
   },
   "outputs": [
    {
     "output_type": "execute_result",
     "data": {
      "text/plain": [
       "True"
      ]
     },
     "execution_count": 193,
     "metadata": {},
     "output_type": "execute_result"
    }
   ],
   "source": [
    "\n",
    "output_container_path = \"abfss://optumstagingdata@optumsadllssa.dfs.core.windows.net\"\n",
    "output_blob_folder = \"optumstagingdata\"\n",
    "data.coalesce(1).write.format(\"csv\").mode(\"overwrite\").option(\"header\",\"true\").format(\"com.databricks.spark.csv\").save(output_blob_folder)\n",
    "files = dbutils.fs.ls(output_blob_folder)\n",
    "output_file = [x for x in files if x.name.startswith(\"part-\")]\n",
    "dbutils.fs.mv(output_file[0].path,\"%s/subscriberdatastaging.csv\"%output_container_path)"
   ]
  },
  {
   "cell_type": "code",
   "execution_count": 0,
   "metadata": {
    "application/vnd.databricks.v1+cell": {
     "cellMetadata": {
      "byteLimit": 2048000,
      "rowLimit": 10000
     },
     "inputWidgets": {},
     "nuid": "72d39eba-b6ef-4aa8-880d-977c6cd7f9b5",
     "showTitle": false,
     "title": ""
    }
   },
   "outputs": [],
   "source": []
  }
 ],
 "metadata": {
  "application/vnd.databricks.v1+notebook": {
   "dashboards": [],
   "environmentMetadata": null,
   "language": "python",
   "notebookMetadata": {
    "pythonIndentUnit": 4
   },
   "notebookName": "Subscriber_Transformation",
   "widgets": {}
  }
 },
 "nbformat": 4,
 "nbformat_minor": 0
}
