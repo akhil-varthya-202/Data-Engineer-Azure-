{
 "cells": [
  {
   "cell_type": "code",
   "execution_count": 0,
   "metadata": {
    "application/vnd.databricks.v1+cell": {
     "cellMetadata": {
      "byteLimit": 2048000,
      "rowLimit": 10000
     },
     "inputWidgets": {},
     "nuid": "e92c7135-f9a2-4e63-90bf-7562fb98a904",
     "showTitle": false,
     "title": ""
    }
   },
   "outputs": [],
   "source": [
    "import pyspark\n",
    "from pyspark.sql import *\n",
    "from pyspark.sql.functions import *"
   ]
  },
  {
   "cell_type": "code",
   "execution_count": 0,
   "metadata": {
    "application/vnd.databricks.v1+cell": {
     "cellMetadata": {
      "byteLimit": 2048000,
      "rowLimit": 10000
     },
     "inputWidgets": {},
     "nuid": "12bca70c-d4cc-43c0-8cf3-be101f3ed20f",
     "showTitle": false,
     "title": ""
    }
   },
   "outputs": [
    {
     "output_type": "execute_result",
     "data": {
      "text/plain": [
       "[SecretScope(name='databricksscope')]"
      ]
     },
     "execution_count": 2,
     "metadata": {},
     "output_type": "execute_result"
    }
   ],
   "source": [
    "# lists scopes created\n",
    "dbutils.secrets.listScopes()"
   ]
  },
  {
   "cell_type": "code",
   "execution_count": 0,
   "metadata": {
    "application/vnd.databricks.v1+cell": {
     "cellMetadata": {
      "byteLimit": 2048000,
      "rowLimit": 10000
     },
     "inputWidgets": {},
     "nuid": "2876d40b-20dd-4449-9649-0918c8cf8a62",
     "showTitle": false,
     "title": ""
    }
   },
   "outputs": [
    {
     "output_type": "execute_result",
     "data": {
      "text/plain": [
       "[SecretMetadata(key='adlskey')]"
      ]
     },
     "execution_count": 3,
     "metadata": {},
     "output_type": "execute_result"
    }
   ],
   "source": [
    "dbutils.secrets.list(scope='databricksscope')"
   ]
  },
  {
   "cell_type": "code",
   "execution_count": 0,
   "metadata": {
    "application/vnd.databricks.v1+cell": {
     "cellMetadata": {
      "byteLimit": 2048000,
      "rowLimit": 10000
     },
     "inputWidgets": {},
     "nuid": "201fdb18-c2f4-4562-b391-bf8e92786791",
     "showTitle": false,
     "title": ""
    }
   },
   "outputs": [],
   "source": [
    "# Boilerplate code to configure \n",
    "spark.conf.set(\"fs.azure.account.key.optumsadllssa.dfs.core.windows.net\",dbutils.secrets.get(scope=\"databricksscope\", key=\"adlskey\"))\n"
   ]
  },
  {
   "cell_type": "code",
   "execution_count": 0,
   "metadata": {
    "application/vnd.databricks.v1+cell": {
     "cellMetadata": {
      "byteLimit": 2048000,
      "rowLimit": 10000
     },
     "inputWidgets": {},
     "nuid": "08bb5734-39fe-4797-8d21-89d9de802e04",
     "showTitle": false,
     "title": ""
    }
   },
   "outputs": [
    {
     "output_type": "display_data",
     "data": {
      "text/html": [
       "<style scoped>\n",
       "  .table-result-container {\n",
       "    max-height: 300px;\n",
       "    overflow: auto;\n",
       "  }\n",
       "  table, th, td {\n",
       "    border: 1px solid black;\n",
       "    border-collapse: collapse;\n",
       "  }\n",
       "  th, td {\n",
       "    padding: 5px;\n",
       "  }\n",
       "  th {\n",
       "    text-align: left;\n",
       "  }\n",
       "</style><div class='table-result-container'><table class='table-result'><thead style='background-color: white'><tr><th>path</th><th>name</th><th>size</th><th>modificationTime</th></tr></thead><tbody><tr><td>abfss://optumrawdataset@optumsadllssa.dfs.core.windows.net/Claims.csv</td><td>Claims.csv</td><td>5766</td><td>1716728851000</td></tr><tr><td>abfss://optumrawdataset@optumsadllssa.dfs.core.windows.net/Patient_records.csv</td><td>Patient_records.csv</td><td>5110</td><td>1716718820000</td></tr><tr><td>abfss://optumrawdataset@optumsadllssa.dfs.core.windows.net/disease.csv</td><td>disease.csv</td><td>1489</td><td>1716718820000</td></tr><tr><td>abfss://optumrawdataset@optumsadllssa.dfs.core.windows.net/group.csv</td><td>group.csv</td><td>4390</td><td>1716718820000</td></tr><tr><td>abfss://optumrawdataset@optumsadllssa.dfs.core.windows.net/hospital.csv</td><td>hospital.csv</td><td>1528</td><td>1716728950000</td></tr><tr><td>abfss://optumrawdataset@optumsadllssa.dfs.core.windows.net/subgroup.csv</td><td>subgroup.csv</td><td>561</td><td>1716718820000</td></tr><tr><td>abfss://optumrawdataset@optumsadllssa.dfs.core.windows.net/subscriber.csv</td><td>subscriber.csv</td><td>12061</td><td>1716718820000</td></tr></tbody></table></div>"
      ]
     },
     "metadata": {
      "application/vnd.databricks.v1+output": {
       "addedWidgets": {},
       "aggData": [],
       "aggError": "",
       "aggOverflow": false,
       "aggSchema": [],
       "aggSeriesLimitReached": false,
       "aggType": "",
       "arguments": {},
       "columnCustomDisplayInfos": {},
       "data": [
        [
         "abfss://optumrawdataset@optumsadllssa.dfs.core.windows.net/Claims.csv",
         "Claims.csv",
         5766,
         1716728851000
        ],
        [
         "abfss://optumrawdataset@optumsadllssa.dfs.core.windows.net/Patient_records.csv",
         "Patient_records.csv",
         5110,
         1716718820000
        ],
        [
         "abfss://optumrawdataset@optumsadllssa.dfs.core.windows.net/disease.csv",
         "disease.csv",
         1489,
         1716718820000
        ],
        [
         "abfss://optumrawdataset@optumsadllssa.dfs.core.windows.net/group.csv",
         "group.csv",
         4390,
         1716718820000
        ],
        [
         "abfss://optumrawdataset@optumsadllssa.dfs.core.windows.net/hospital.csv",
         "hospital.csv",
         1528,
         1716728950000
        ],
        [
         "abfss://optumrawdataset@optumsadllssa.dfs.core.windows.net/subgroup.csv",
         "subgroup.csv",
         561,
         1716718820000
        ],
        [
         "abfss://optumrawdataset@optumsadllssa.dfs.core.windows.net/subscriber.csv",
         "subscriber.csv",
         12061,
         1716718820000
        ]
       ],
       "datasetInfos": [],
       "dbfsResultPath": null,
       "isJsonSchema": true,
       "metadata": {},
       "overflow": false,
       "plotOptions": {
        "customPlotOptions": {},
        "displayType": "table",
        "pivotAggregation": null,
        "pivotColumns": null,
        "xColumns": null,
        "yColumns": null
       },
       "removedWidgets": [],
       "schema": [
        {
         "metadata": "{}",
         "name": "path",
         "type": "\"string\""
        },
        {
         "metadata": "{}",
         "name": "name",
         "type": "\"string\""
        },
        {
         "metadata": "{}",
         "name": "size",
         "type": "\"long\""
        },
        {
         "metadata": "{}",
         "name": "modificationTime",
         "type": "\"long\""
        }
       ],
       "type": "table"
      }
     },
     "output_type": "display_data"
    }
   ],
   "source": [
    "# lists files present in the optumrawdata\n",
    "display(dbutils.fs.ls(\"abfss://optumrawdataset@optumsadllssa.dfs.core.windows.net\"))"
   ]
  },
  {
   "cell_type": "code",
   "execution_count": 0,
   "metadata": {
    "application/vnd.databricks.v1+cell": {
     "cellMetadata": {
      "byteLimit": 2048000,
      "rowLimit": 10000
     },
     "inputWidgets": {},
     "nuid": "fec14ac8-2268-400a-8438-6a8ff362e315",
     "showTitle": false,
     "title": ""
    }
   },
   "outputs": [],
   "source": [
    "# loading the subgroup data in variable called data  \n",
    "data = spark.read.csv('abfss://optumrawdataset@optumsadllssa.dfs.core.windows.net/subgroup.csv',header=True)"
   ]
  },
  {
   "cell_type": "code",
   "execution_count": 0,
   "metadata": {
    "application/vnd.databricks.v1+cell": {
     "cellMetadata": {
      "byteLimit": 2048000,
      "rowLimit": 10000
     },
     "inputWidgets": {},
     "nuid": "c1d7208b-92f2-4831-bced-2bba9f49731c",
     "showTitle": false,
     "title": ""
    }
   },
   "outputs": [
    {
     "output_type": "stream",
     "name": "stdout",
     "output_type": "stream",
     "text": [
      "+---------+-------------------+---------------+----------------------------------+\n|subgrp_sk|subgrp_name        |monthly_premium|subgrp_id                         |\n+---------+-------------------+---------------+----------------------------------+\n|S101     |Deficiency Diseases|3000           |GRP101,GRP105                     |\n|S102     |Accident           |1000           |GRP110,GRP150,GRP136              |\n|S103     |Physiology         |2000           |GRP122,GRP108,GRP138,GRP148       |\n|S104     |Therapy            |1500           |GRP103,GRP113,GRP123,GRP133,GRP143|\n|S105     |Allergies          |2300           |GRP153,GRP104,GRP114,GRP124       |\n+---------+-------------------+---------------+----------------------------------+\nonly showing top 5 rows\n\n"
     ]
    }
   ],
   "source": [
    "# display of data\n",
    "data.show(5,False)"
   ]
  },
  {
   "cell_type": "code",
   "execution_count": 0,
   "metadata": {
    "application/vnd.databricks.v1+cell": {
     "cellMetadata": {
      "byteLimit": 2048000,
      "rowLimit": 10000
     },
     "inputWidgets": {},
     "nuid": "abe5a599-bb6f-46fb-a063-26252ab009d7",
     "showTitle": false,
     "title": ""
    }
   },
   "outputs": [
    {
     "output_type": "execute_result",
     "data": {
      "text/plain": [
       "10"
      ]
     },
     "execution_count": 14,
     "metadata": {},
     "output_type": "execute_result"
    }
   ],
   "source": [
    "# Number of rows\n",
    "data.count()"
   ]
  },
  {
   "cell_type": "code",
   "execution_count": 0,
   "metadata": {
    "application/vnd.databricks.v1+cell": {
     "cellMetadata": {
      "byteLimit": 2048000,
      "rowLimit": 10000
     },
     "inputWidgets": {},
     "nuid": "e1f41e2e-9e4d-4e8d-af9f-0cdc26c23725",
     "showTitle": false,
     "title": ""
    }
   },
   "outputs": [],
   "source": [
    "# Removing duplicate Rows\n",
    "data = data.dropDuplicates()"
   ]
  },
  {
   "cell_type": "code",
   "execution_count": 0,
   "metadata": {
    "application/vnd.databricks.v1+cell": {
     "cellMetadata": {
      "byteLimit": 2048000,
      "rowLimit": 10000
     },
     "inputWidgets": {},
     "nuid": "39a105b4-50ce-417f-b2ae-5f538f487bb8",
     "showTitle": false,
     "title": ""
    }
   },
   "outputs": [
    {
     "output_type": "execute_result",
     "data": {
      "text/plain": [
       "10"
      ]
     },
     "execution_count": 16,
     "metadata": {},
     "output_type": "execute_result"
    }
   ],
   "source": [
    "data.count()"
   ]
  },
  {
   "cell_type": "code",
   "execution_count": 0,
   "metadata": {
    "application/vnd.databricks.v1+cell": {
     "cellMetadata": {
      "byteLimit": 2048000,
      "rowLimit": 10000
     },
     "inputWidgets": {},
     "nuid": "1e7f50e9-30fa-4790-a904-47288befc858",
     "showTitle": false,
     "title": ""
    }
   },
   "outputs": [],
   "source": [
    "# splitting a string column into an array of substrings based on a delimiter\n",
    "data = data.withColumn(\"subgrp_id\",split(data['subgrp_id'],\",\"))"
   ]
  },
  {
   "cell_type": "code",
   "execution_count": 0,
   "metadata": {
    "application/vnd.databricks.v1+cell": {
     "cellMetadata": {
      "byteLimit": 2048000,
      "rowLimit": 10000
     },
     "inputWidgets": {},
     "nuid": "eda8f3a8-287d-4817-b87a-f9abe5a88c8d",
     "showTitle": false,
     "title": ""
    }
   },
   "outputs": [
    {
     "output_type": "stream",
     "name": "stdout",
     "output_type": "stream",
     "text": [
      "+---------+-----------+---------------+---------+\n|subgrp_sk|subgrp_name|monthly_premium|subgrp_id|\n+---------+-----------+---------------+---------+\n|     S110|      Viral|           1000|   GRP143|\n|     S110|      Viral|           1000|   GRP147|\n|     S110|      Viral|           1000|   GRP126|\n|     S107|     Cancer|           3200|   GRP151|\n|     S107|     Cancer|           3200|   GRP131|\n+---------+-----------+---------------+---------+\nonly showing top 5 rows\n\n"
     ]
    }
   ],
   "source": [
    "data.show(5)"
   ]
  },
  {
   "cell_type": "code",
   "execution_count": 0,
   "metadata": {
    "application/vnd.databricks.v1+cell": {
     "cellMetadata": {
      "byteLimit": 2048000,
      "rowLimit": 10000
     },
     "inputWidgets": {},
     "nuid": "1b300c99-c1b1-4e19-a030-5341edf0fbd4",
     "showTitle": false,
     "title": ""
    }
   },
   "outputs": [],
   "source": [
    "# \"explode\" or \"flatten\" arrays or maps into separate rows.\n",
    "data = data.withColumn(\"subgrp_id\",explode(data['subgrp_id']))"
   ]
  },
  {
   "cell_type": "code",
   "execution_count": 0,
   "metadata": {
    "application/vnd.databricks.v1+cell": {
     "cellMetadata": {
      "byteLimit": 2048000,
      "rowLimit": 10000
     },
     "inputWidgets": {},
     "nuid": "c1b92687-cbfd-4552-938d-541b046543f6",
     "showTitle": false,
     "title": ""
    }
   },
   "outputs": [
    {
     "output_type": "stream",
     "name": "stdout",
     "output_type": "stream",
     "text": [
      "+---------+-----------+---------------+---------+\n|subgrp_sk|subgrp_name|monthly_premium|subgrp_id|\n+---------+-----------+---------------+---------+\n|     S110|      Viral|           1000|   GRP143|\n|     S110|      Viral|           1000|   GRP147|\n|     S110|      Viral|           1000|   GRP126|\n|     S107|     Cancer|           3200|   GRP151|\n|     S107|     Cancer|           3200|   GRP131|\n+---------+-----------+---------------+---------+\nonly showing top 5 rows\n\n"
     ]
    }
   ],
   "source": [
    "data.show(5)"
   ]
  },
  {
   "cell_type": "code",
   "execution_count": 0,
   "metadata": {
    "application/vnd.databricks.v1+cell": {
     "cellMetadata": {
      "byteLimit": 2048000,
      "rowLimit": 10000
     },
     "inputWidgets": {},
     "nuid": "ce93da74-44e1-4f0f-9b82-6ec5c9697076",
     "showTitle": false,
     "title": ""
    }
   },
   "outputs": [
    {
     "output_type": "stream",
     "name": "stdout",
     "output_type": "stream",
     "text": [
      "+---------+-----------+---------------+---------+\n|subgrp_sk|subgrp_name|monthly_premium|subgrp_id|\n+---------+-----------+---------------+---------+\n|0        |0          |0              |0        |\n+---------+-----------+---------------+---------+\n\n"
     ]
    }
   ],
   "source": [
    "# display of null values in all columns\n",
    "data.select([count(when(isnan(c)|col(c).isNull(),c)).alias(c) for c in data.columns]).show(5,False)"
   ]
  },
  {
   "cell_type": "code",
   "execution_count": 0,
   "metadata": {
    "application/vnd.databricks.v1+cell": {
     "cellMetadata": {
      "byteLimit": 2048000,
      "rowLimit": 10000
     },
     "inputWidgets": {},
     "nuid": "bac850e8-6f7b-4bbf-821d-79a0f2760bb1",
     "showTitle": false,
     "title": ""
    }
   },
   "outputs": [
    {
     "output_type": "stream",
     "name": "stdout",
     "output_type": "stream",
     "text": [
      "+---------+-----------+---------------+---------+-----+\n|subgrp_sk|subgrp_name|monthly_premium|subgrp_id|count|\n+---------+-----------+---------------+---------+-----+\n+---------+-----------+---------------+---------+-----+\n\n"
     ]
    }
   ],
   "source": [
    "# finding duplicates \n",
    "data.groupby(data.columns).count().where(\"count>1\").show(5,False)"
   ]
  },
  {
   "cell_type": "code",
   "execution_count": 0,
   "metadata": {
    "application/vnd.databricks.v1+cell": {
     "cellMetadata": {
      "byteLimit": 2048000,
      "rowLimit": 10000
     },
     "inputWidgets": {},
     "nuid": "186d540c-39eb-4b57-bf9d-7347679c0c2e",
     "showTitle": false,
     "title": ""
    }
   },
   "outputs": [
    {
     "output_type": "execute_result",
     "data": {
      "text/plain": [
       "True"
      ]
     },
     "execution_count": 29,
     "metadata": {},
     "output_type": "execute_result"
    }
   ],
   "source": [
    "# boiler plate to push code from databricks to adls\n",
    "output_container_path = \"abfss://optumstagingdata@optumsadllssa.dfs.core.windows.net\"\n",
    "output_blob_folder =\"optumstagingdata\"\n",
    "data.coalesce(1).write.mode(\"overwrite\").option(\"header\",\"true\").format(\"com.databricks.spark.csv\").save(output_blob_folder)\n",
    "files = dbutils.fs.ls(output_blob_folder)\n",
    "output_file = [x for x in files if x.name.startswith(\"part-\")]\n",
    "dbutils.fs.mv(output_file[0].path,\"%s/subgroupstagingdata.csv\"%output_container_path)"
   ]
  }
 ],
 "metadata": {
  "application/vnd.databricks.v1+notebook": {
   "dashboards": [],
   "environmentMetadata": null,
   "language": "python",
   "notebookMetadata": {
    "pythonIndentUnit": 4
   },
   "notebookName": "SubGroup_Transformation",
   "widgets": {}
  }
 },
 "nbformat": 4,
 "nbformat_minor": 0
}
